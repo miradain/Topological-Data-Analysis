{
 "cells": [
  {
   "cell_type": "markdown",
   "metadata": {},
   "source": [
    "If you wanted to invest on CaC40, what should be your strategy? Should you invest on the benchmark index or rather selecting a couple of companies from the index? \n",
    "\n",
    "It is always difficult to build a diversified portfolio that beat the benchmark index. In the literature, the theory named \"Enhanced Indexing\" is meant to address this problem. In this paper, we present an alternative to traditional methods using topological data analysis (TDA). More precisely, we study the CaC40 index and build two portfolios that beat this benchmark index according to the profile risk appetite. \n",
    "# Loading the libraries   "
   ]
  },
  {
   "cell_type": "code",
   "execution_count": 61,
   "metadata": {},
   "outputs": [
    {
     "name": "stderr",
     "output_type": "stream",
     "text": [
      "/Users/miradain/anaconda3/lib/python3.7/site-packages/pandas_datareader/compat/__init__.py:7: FutureWarning: pandas.util.testing is deprecated. Use the functions in the public API at pandas.testing instead.\n",
      "  from pandas.util.testing import assert_frame_equal\n"
     ]
    }
   ],
   "source": [
    "import pandas_datareader as pdr\n",
    "import datetime \n",
    "import numpy as np\n",
    "import pandas as pd\n",
    "import matplotlib.pyplot as plt \n",
    "import statsmodels.api as sm\n",
    "from yahoo_fin import stock_info as si "
   ]
  },
  {
   "cell_type": "markdown",
   "metadata": {},
   "source": [
    "#  Loading the data from Yahoo Finance\n",
    "\n",
    "- Extracting  data function  "
   ]
  },
  {
   "cell_type": "code",
   "execution_count": 62,
   "metadata": {},
   "outputs": [],
   "source": [
    "def get(tickers, startdate, enddate):\n",
    "  def data(ticker):\n",
    "    return (pdr.get_data_yahoo(ticker, start=startdate, end=enddate))\n",
    "  datas = map (data, tickers)\n",
    "  return(pd.concat(datas, keys=tickers, names=['Ticker', 'Date']))"
   ]
  },
  {
   "cell_type": "markdown",
   "metadata": {},
   "source": [
    "- The 30 most important stocks in the CaC40 index"
   ]
  },
  {
   "cell_type": "code",
   "execution_count": 58,
   "metadata": {},
   "outputs": [],
   "source": [
    "tickers=['SGO.PA','RI.PA',  'LR.PA', 'EN.PA', 'AI.PA', 'HO.PA','ML.PA','VIV.PA','AIR.PA','ACA.PA','ENGI.PA',\n",
    "        'ATO.PA','BN.PA','SW.PA','VIE.PA','BNP.PA','SAN.PA','UG.PA','KER.PA','MC.PA','ORA.PA','GLE.PA','SU.PA','DG.PA',\n",
    "        'OR.PA','CA.PA','CAP.PA','AC.PA','FP.PA', 'TEP.PA']"
   ]
  },
  {
   "cell_type": "markdown",
   "metadata": {},
   "source": [
    "- Extracting the stock data from Yahoo Finance"
   ]
  },
  {
   "cell_type": "code",
   "execution_count": 63,
   "metadata": {},
   "outputs": [],
   "source": [
    "# Get the stock data\n",
    "data = get(tickers, datetime.datetime(2005, 1, 1), datetime.datetime(2020, 6, 30))\n",
    "# Isolate the `Adj Close` values and transform the DataFrame\n",
    "portfolio = data[['Adj Close']].reset_index().pivot('Date', 'Ticker', 'Adj Close')"
   ]
  },
  {
   "cell_type": "markdown",
   "metadata": {},
   "source": [
    "- Extracting the CaC40 index data from Yahoo Finance"
   ]
  },
  {
   "cell_type": "code",
   "execution_count": 64,
   "metadata": {},
   "outputs": [],
   "source": [
    "ticker_cac40= ['^FCHI']\n",
    "portfolio_I = get(ticker_cac40, datetime.datetime(2005, 1, 1), datetime.datetime(2020, 6, 30))\n",
    "index_I = portfolio_I[['Adj Close']].reset_index().pivot('Date', 'Ticker', 'Adj Close')"
   ]
  },
  {
   "cell_type": "markdown",
   "metadata": {},
   "source": [
    "- Computing the (log) returns in the portfolio including the benchmark index"
   ]
  },
  {
   "cell_type": "code",
   "execution_count": 66,
   "metadata": {},
   "outputs": [
    {
     "name": "stderr",
     "output_type": "stream",
     "text": [
      "/Users/miradain/anaconda3/lib/python3.7/site-packages/ipykernel_launcher.py:4: RuntimeWarning: invalid value encountered in log\n",
      "  after removing the cwd from sys.path.\n"
     ]
    }
   ],
   "source": [
    "def asset_log_returns(index, portfolio):\n",
    "    New_portfolio= portfolio\n",
    "    New_portfolio[index]=index_I[index]\n",
    "    asset_returns= np.log(1 + New_portfolio.pct_change()).dropna()\n",
    "    return asset_returns\n",
    "\n",
    "asset_returns= asset_log_returns('^FCHI', portfolio)"
   ]
  },
  {
   "cell_type": "markdown",
   "metadata": {},
   "source": [
    "#  Topological data analysis (TDA)\n",
    "\n",
    "Topological data analysis is a method invented to analyze data with a strong emphasis on its shape. This theory has sometimes been shown to be more robust than traditional methods and in some contexts it is used in combination with statistical data analysis methods. In addition, it offers excellent visualization tools for larger dimension data points. \n",
    "\n",
    "Topological data analysis studies the shape of the data from its point cloud (see the plot below). \n",
    "\n",
    "$$ \t\\adjustimage{max size={0.9\\linewidth}{0.9\\paperheight}}{TDA_pipeline.jpg} $$\n",
    "\n",
    "\n",
    "Namely, from a point cloud data, we build a filtration by thickening the points to balls with larger and larger radius. As the radius of balls encreases, circles are created and then filled out. We records the date of birth and death of each ones. This is the topological information, also called \"Persistent diagram\" that we will next try to search the meaning. However this valuable information is not yet appropriate for a Data Science job. We have to construct a real data feature out of persistent diagram. This process is called \"Vectorization\".\n",
    "One way of vectorizing persistent diagrams (as shown in the plot, bottom right) consists of gluing together isosceles right triangles built on each features. This is called \"Persistent Landscape\".\n",
    "\n",
    "In general topological data analysis has the following pipeline:\n",
    "\n",
    "$$ \\{ \\text{Point cloud data }\\} \\Longrightarrow  \\{ \\text{Persistent Diagrams }\\}  \\Longrightarrow  \\{ \\text{Vectorization }\\}  \\Longrightarrow  \\{ \\text{ Data Science }\\}$$\n",
    "\n"
   ]
  },
  {
   "cell_type": "markdown",
   "metadata": {},
   "source": [
    "#  Implementation of TDA in finance\n",
    "\n",
    "In finance, TDA has a longer pipeline:\n",
    "\n",
    "$$ \\{ \\text{Data processing }\\} \\Longrightarrow  \\{ \\text{Persistent Diagrams }\\}  \\Longrightarrow  \\{ \\text{Vectorization }\\}  \\Longrightarrow  \\{ \\text{ Portfolio constructions}\\}$$\n",
    "\n",
    "We will now briefly explain each step.\n",
    "\n",
    "- Data processing = Taken's embedding.\n",
    "\n",
    "Financial stock data are essentially one dimensional ( time series ) data. Thus we don't have yet a point cloud for TDA analysis. We will use the Taken's embedding theorem to transform the stock data into a point cloud in $\\mathbb{R}^{d}$ for some integer $d;$\n",
    "\n",
    "- Persistent Diagrams = Use python's TDA library. \n",
    "\n",
    "We will use the TDA-python library \"Ripser\" to compute the persistent diagram.\n",
    "\n",
    "- Vectorization = Persistent landscape + $L^p$ norm series.\n",
    "\n",
    "Normally a single point cloud data produces a single persistent diagram and then a single persistent landscape. We will use the sliding window technic to get a series of persistent landscapes.\n",
    "Moreover, knowing that the persistent landscapes form a subset of the banach space $L^p(\\mathbb{N} \\times \\mathbb{R}),$ we can compute the $L^p$ norm for each persistent landscape. Therefore we get a series of norm values which is now the topological feature to consider for data analysis. \n",
    "\n",
    "- Financial analysis =  Use the topological feature to analyze the stocks  and build portfolios.\n",
    "\n",
    "Roughly speaking we will only keep assets having highest or lowest $L^p$ norm.\n"
   ]
  },
  {
   "cell_type": "code",
   "execution_count": 71,
   "metadata": {},
   "outputs": [],
   "source": [
    "# Loading the library for topological data analysis\n",
    "import numpy as np\n",
    "from ripser import ripser\n",
    "from persim import plot_diagrams"
   ]
  },
  {
   "cell_type": "markdown",
   "metadata": {},
   "source": [
    "The functions that we will define in this part will have the following arguments:\n",
    "    \n",
    "ts_data = time serie data;\n",
    "\n",
    "p = the level of the norm $L^{p}$;\n",
    "\n",
    "d1 = sliding window width;\n",
    "\n",
    "d = the dimension of the embedding space;\n",
    "\n",
    "tho = the speed of the sliding windows: the number of days to skip between windows;\n",
    "\n",
    "resolution = resolution in the approximation of persistent landscape;\n",
    "\n",
    "x_max = the upper bound of the intervall defining the steps;\n",
    "\n",
    "x_min = the lower bound of the intervall defining the steps;\n",
    "\n",
    "nb_landscapes = The number of persistent landscapes to consider. \n"
   ]
  },
  {
   "cell_type": "markdown",
   "metadata": {},
   "source": [
    "### Data processing\n",
    "\n",
    "- Creation of point cloud data"
   ]
  },
  {
   "cell_type": "code",
   "execution_count": 72,
   "metadata": {},
   "outputs": [],
   "source": [
    "def takenEmbedding(ts_data,d1,d=3, tho=1):\n",
    "    array= np.array(ts_data)\n",
    "    dic={}\n",
    "    if d1-(d-1)*tho < 0:\n",
    "        raise ValueError(\"the time serie len is too small\")\n",
    "    else:\n",
    "        for i in range(d):\n",
    "            dic[str(i)]= array[i*tho: d1-(d-1)*tho+i*tho]\n",
    "    df=pd.DataFrame(dic)\n",
    "    return df"
   ]
  },
  {
   "cell_type": "markdown",
   "metadata": {},
   "source": [
    "###  Vectorization\n",
    "\n",
    "- The persistence landscape function"
   ]
  },
  {
   "cell_type": "code",
   "execution_count": 73,
   "metadata": {},
   "outputs": [],
   "source": [
    "def landscapes_approx(Persistent_diagram,x_min,x_max,resolution,nb_landscapes):\n",
    "    landscape = np.zeros((nb_landscapes,nb_steps))\n",
    "    step = (x_max - x_min) / resolution\n",
    "    #Warning: naive and not the best way to proceed!!!!!\n",
    "    for i in range(nb_steps):\n",
    "        x = x_min + i * step\n",
    "        event_list = []\n",
    "        for pair in Persistent_diagram:\n",
    "            b = pair[0]\n",
    "            d = pair[1]\n",
    "            if (b <= x) and (x<= d):\n",
    "                if x >= (d+b)/2. :\n",
    "                    event_list.append((d-x))\n",
    "                else:\n",
    "                    event_list.append((x-b))\n",
    "        event_list.sort(reverse=True)\n",
    "        event_list = np.asarray(event_list)\n",
    "        for j in range(nb_landscapes):\n",
    "            if(j<len(event_list)):\n",
    "                landscape[j,i]=event_list[j]\n",
    "    return landscape\n"
   ]
  },
  {
   "cell_type": "markdown",
   "metadata": {},
   "source": [
    "- The $L^p$ norm series function"
   ]
  },
  {
   "cell_type": "code",
   "execution_count": 74,
   "metadata": {},
   "outputs": [],
   "source": [
    "# The Lp-norm serie function of a given asset\n",
    "def lp_norm_series(ts_data,p=2,d1=20,d=3, tho=1, resolution=1000, x_max = 0.1):\n",
    "  \n",
    "    # The Lp norm function for a single persistent landscape\n",
    "    def lp_norm(landscape,p):\n",
    "        eta= landscape**p\n",
    "        norm= np.sum(eta)\n",
    "        return norm\n",
    "    \n",
    "    N= len(ts_data)\n",
    "    norm_series={'H0': np.zeros(N-d1), 'H1': np.zeros(N-d1)}\n",
    "    for k in range(N):\n",
    "        if N-k>d1:\n",
    "            data=takenEmbedding(ts_data[k:],d1,d, tho=1)\n",
    "            diagrams = ripser(data)['dgms']\n",
    "            landscape0= landscapes_approx(diagrams[0],0,x_max,resolution,len(diagrams[0]))\n",
    "            landscape1= landscapes_approx(diagrams[1],0,x_max,resolution,len(diagrams[1]))\n",
    "            norm_series['H0'][k]=lp_norm(landscape0,p)\n",
    "            norm_series['H1'][k]=lp_norm(landscape1,p)\n",
    "    return norm_series\n",
    "\n",
    "\n",
    "# The Lp-norm serie function for the whole portfolio 'Bin'. Note that dim='H0' or 'H1'\n",
    "def norm_data(data, dim, Bin,p=2, d1=20,d=3, tho=1, resolution=1000, x_max = 0.1):\n",
    "    norm_data= {}\n",
    "    for i in range(len(Bin)):\n",
    "        ts_data=data[Bin[i]]\n",
    "        norm_data[Bin[i]]=lp_norm_series(ts_data, p)[dim]\n",
    "    return norm_data"
   ]
  },
  {
   "cell_type": "markdown",
   "metadata": {},
   "source": [
    "### Portfolio constructions \n",
    "\n",
    "We classify assets by their norm values (more precisely, the difference between their last norm values and their norm mean values). We will next split the original portfolio into three sub-portfolios: a portfolio which contains the assets with highest norm values, a portfolio of assets with lowest norm values and finally and intermediate portfolio with the rest of assets.\n",
    "\n",
    "\n",
    "- The TDA enhanced indexing function (TDA_EI)"
   ]
  },
  {
   "cell_type": "code",
   "execution_count": 75,
   "metadata": {},
   "outputs": [],
   "source": [
    "\n",
    "def TDA_EI(asset_returns, tickers, dim,p=2, d1=20, d=3, tho=1):\n",
    "    diff_value= {}\n",
    "    for asset in tickers:\n",
    "        # Get the data of this asset\n",
    "        ts_data=asset_returns[asset]\n",
    "        # Compute the norm series of this asset\n",
    "        norm=lp_norm_series(ts_data, p, d1, d, tho)[dim]\n",
    "        # Find the difference between the last norm value and mean norm value\n",
    "        diff_value[asset]= norm[-1]-np.mean(norm)\n",
    "    # Sort the diff values of each assets in ascending order\n",
    "    sorted_diff_value= sorted(diff_value.items(), key= lambda kv:kv[1] )\n",
    "    N=len(sorted_diff_value)\n",
    "    # Devide the asset class in three categories: bin1, bin2 and 'bin3'\n",
    "    bin1=[v[0] for v in sorted_diff_value[:round(N/3)]]\n",
    "    bin2=[v[0] for v in sorted_diff_value[round(N/3):round(2*N/3)]]\n",
    "    bin3=[v[0] for v in sorted_diff_value[round(2*N/3): N]]\n",
    "    return {'bin1': bin1, 'bin2': bin2, 'bin3': bin3}\n",
    "\n"
   ]
  },
  {
   "cell_type": "markdown",
   "metadata": {},
   "source": [
    "- Splitting the original portfolio into sub-portfolios "
   ]
  },
  {
   "cell_type": "code",
   "execution_count": 76,
   "metadata": {},
   "outputs": [
    {
     "name": "stdout",
     "output_type": "stream",
     "text": [
      "{'bin1': ['GLE.PA', 'ML.PA', 'ENGI.PA', 'TEP.PA', 'EN.PA', 'BNP.PA', 'VIE.PA', 'CA.PA', 'KER.PA', 'SU.PA'], 'bin2': ['MC.PA', 'VIV.PA', 'FP.PA', 'DG.PA', 'LR.PA', 'BN.PA', 'OR.PA', 'CAP.PA', 'AI.PA', 'SAN.PA'], 'bin3': ['RI.PA', 'ATO.PA', 'ORA.PA', 'AIR.PA', 'AC.PA', 'UG.PA', 'SW.PA', 'SGO.PA', 'ACA.PA', 'HO.PA']}\n"
     ]
    }
   ],
   "source": [
    "bins= TDA_EI(asset_returns, tickers, 'H1', 3, d1=20, d=3, tho=1)\n",
    "print(bins)"
   ]
  },
  {
   "cell_type": "markdown",
   "metadata": {},
   "source": [
    "#  Financial analysis of TDA portfolios\n",
    "\n",
    "In the rest of this paper, we will compare the risk and portfolio's return of bin1 and bin3 and ignore bin2 which can be seen as an intermediate portfolio.\n",
    "\n",
    "We will see that\n",
    "\n",
    "- bin1 is  suitable for people with high-risk profile\n",
    "- bin3 is suitable for people with low-risk profile\n",
    "\n",
    "##  Risk analysis\n",
    "\n",
    "###  Computing the risk (CVaR) of stocks per portfolio"
   ]
  },
  {
   "cell_type": "code",
   "execution_count": 77,
   "metadata": {},
   "outputs": [],
   "source": [
    "from scipy.stats import norm\n",
    "\n",
    "# The conditional value at risk (CVaR) function of a single asset\n",
    "def CVar(asset_return, conf=0.95):\n",
    "    loss= -asset_return\n",
    "    # Compute the mean and the variance of the portfolio\n",
    "    pm=loss.mean()\n",
    "    ps=loss.std()\n",
    "    # Compute the conf% VaR using .ppf()\n",
    "    VaR_conf = norm.ppf(conf, loc = pm, scale = ps)\n",
    "    # Compute the expected tail loss and the CVaR in the worst 5% of cases\n",
    "    tail_loss = norm.expect(lambda x: x, loc = pm, scale = ps, lb = VaR_conf )\n",
    "    CVar_conf = (1 / (1 - conf)) * tail_loss\n",
    "    return CVar_conf\n",
    "\n",
    "# The conditional value at risk (CVaR) function of a portfolio\n",
    "def CVar_portfolio(tickers, asset_returns, conf=0.95):\n",
    "    CVar_portfolio={}\n",
    "    for asset in tickers:\n",
    "        asset_return= asset_returns[asset]\n",
    "        CVar_portfolio[asset]=CVar(asset_return, conf)\n",
    "    return CVar_portfolio\n",
    "\n",
    "# Computing the conditional values at risk (CVaR) of the different assets in each portfolio      \n",
    "CVar_Bin1= CVar_portfolio(bins['bin1'], asset_returns) \n",
    "CVar_Bin2= CVar_portfolio(bins['bin2'], asset_returns) \n",
    "CVar_Bin3= CVar_portfolio(bins['bin3'], asset_returns) "
   ]
  },
  {
   "cell_type": "markdown",
   "metadata": {},
   "source": [
    "###  Representation of CVaR of assets per sub-portfolios"
   ]
  },
  {
   "cell_type": "code",
   "execution_count": 90,
   "metadata": {},
   "outputs": [
    {
     "data": {
      "image/png": "[encoded data removed]",
      "text/plain": [
       "<Figure size 576x396 with 1 Axes>"
      ]
     },
     "metadata": {},
     "output_type": "display_data"
    }
   ],
   "source": [
    "lists1 = sorted(CVar_Bin1.items()) # sorted by key, return a list of tuples\n",
    "x1, y1 = zip(*lists1)\n",
    "\n",
    "\n",
    "lists2 = sorted(CVar_Bin2.items()) # sorted by key, return a list of tuples\n",
    "x2, y2 = zip(*lists2)\n",
    "\n",
    "lists3 = sorted(CVar_Bin3.items()) # sorted by key, return a list of tuples\n",
    "x3, y3 = zip(*lists3)\n",
    "\n",
    "plt.style.use('seaborn')\n",
    "plt.plot(x1, y1, 'o', label='bin1')\n",
    "plt.plot(x2, y2, 'o', label='bin2')\n",
    "plt.plot(x3, y3, 'o', label='bin3')\n",
    "plt.legend(loc='best')\n",
    "plt.ylabel('CVaR', fontsize=20) \n",
    "plt.xticks([])\n",
    "plt.show()"
   ]
  },
  {
   "cell_type": "markdown",
   "metadata": {},
   "source": [
    "###  Computing the risk mean per sub-portfolios"
   ]
  },
  {
   "cell_type": "code",
   "execution_count": 92,
   "metadata": {},
   "outputs": [
    {
     "name": "stdout",
     "output_type": "stream",
     "text": [
      "CVaR mean of bin1: 0.037135837048476866\n",
      "CVaR mean of bin2: 0.030226966973985865\n",
      "CVaR mean of bin3: 0.03723000647791284\n"
     ]
    }
   ],
   "source": [
    "from numpy import array\n",
    "CVar_risk1=array([CVar_Bin1[k] for k in CVar_Bin1]).mean()\n",
    "CVar_risk2=array([CVar_Bin2[k] for k in CVar_Bin2]).mean()\n",
    "CVar_risk3=array([CVar_Bin3[k] for k in CVar_Bin3]).mean()\n",
    "print('CVaR mean of bin1:',CVar_risk1)\n",
    "print('CVaR mean of bin2:',CVar_risk2)\n",
    "print('CVaR mean of bin3:',CVar_risk3)"
   ]
  },
  {
   "cell_type": "markdown",
   "metadata": {},
   "source": [
    "We deduce from this risk analysis that even if bin1 tends to have lower risk mean than bin3, the plot shows that the CVaR in bin1 is relatively high (for all its assets) while the dispersion of risk values in bin3 is higher. In other words, it is less risky to invest on bin3 than investing on bin1.  "
   ]
  },
  {
   "cell_type": "markdown",
   "metadata": {},
   "source": [
    "## Portfolio optimization\n",
    "In this part, we compute the portfolio weights in bin1 and bin3. Then we compute the expected return of these sub-portfolios. \n",
    "\n",
    "\n",
    "\n",
    "###  Building portfolio weight\n",
    "\n",
    "The goal is to solve the optimization problem ( see [3] for a complete description )\n",
    "\n",
    "$$ \\underset{w}{min} \\underset{t=1}{\\overset{d_1 -20}{\\Sigma}}  \\underset{t=1}{\\overset{n}{\\Sigma}} |N_{it}w_i-N_t|$$\n",
    "subject to $$\\underset{i=1}{\\overset{n}{\\Sigma}}\\mu_i w_i -\\mu_I \\geq r^*$$,\n",
    "$$ \\underset{i=1}{\\overset{n}{\\Sigma}}w_i =1,$$\n",
    "\n",
    "$$w_i \\geq 0, i=1,..., n$$\n",
    "\n",
    "where \n",
    "- $N_t:$ the TDA-norm of the benchmark index\n",
    "- $N_{it}:$ the TDA-norm of the benchmark asset $i, i=1,..., n$\n",
    "- $\\mu_I:$ the expected return from the benchmark index\n",
    "- $\\mu_i= \\frac{1}{d_1} \\Sigma_{t=1}^{d_1} x_{it}:$ the expected return from the benchmark asset $i$ in the $d_1$ days of the sample period\n",
    "- $r^{*}$ is the desired return over the above benchmark return from the portfolio"
   ]
  },
  {
   "cell_type": "code",
   "execution_count": 80,
   "metadata": {},
   "outputs": [],
   "source": [
    "# Optimisation: optimal weight function\n",
    "def optimal_weight(Bin, asset_returns,index, dim, p=2,r=0.02):\n",
    "    Bin=Bin\n",
    "    mu_assets= np.array(asset_returns[Bin].mean())\n",
    "    mu_index = np.array(asset_returns[index].mean())\n",
    "    Norm_data= norm_data(asset_returns[Bin], dim, Bin)\n",
    "    N= lp_norm_series(asset_returns[index], p)[dim] \n",
    "    \n",
    "    # Definition of constraints\n",
    "    def constraint1(w):\n",
    "        return mu_assets.dot(w)-mu_index-r\n",
    "    def constraint2(w):\n",
    "        return np.sum(w)-1\n",
    "    con1= {'type': 'ineq', 'fun':constraint1}\n",
    "    con2= {'type': 'eq', 'fun':constraint2}\n",
    "    cons= [con1, con2]\n",
    "    \n",
    "    # definition of bounds\n",
    "    zeros= np.zeros(len(Bin))\n",
    "    ones= np.ones(len(Bin))\n",
    "    bounds = Bounds(zeros.tolist(), ones.tolist())\n",
    "    \n",
    "    # Objective function for optimisation\n",
    "    def ETDA_func(w):\n",
    "        part=0\n",
    "        for i in range(len(Bin)):\n",
    "            norm=Norm_data[Bin[i]]\n",
    "            part+= np.sum(np.abs(norm*w[i]-N))\n",
    "        return part\n",
    "    \n",
    "    # Optimisation\n",
    "    w0=np.ones(len(Bin))\n",
    "    sol= minimize(ETDA_func, w0, method='SLSQP', bounds=bounds, constraints= cons)\n",
    "    \n",
    "    return sol.x"
   ]
  },
  {
   "cell_type": "code",
   "execution_count": 85,
   "metadata": {},
   "outputs": [],
   "source": [
    "# We assume in this paper that r=0\n",
    "weight_bin1=optimal_weight(bins['bin1'], asset_returns,'^FCHI', 'H1',3,0)\n",
    "weight_bin3=optimal_weight(bins['bin3'], asset_returns,'^FCHI', 'H1',3,0)"
   ]
  },
  {
   "cell_type": "code",
   "execution_count": 91,
   "metadata": {},
   "outputs": [
    {
     "name": "stdout",
     "output_type": "stream",
     "text": [
      "weight for bin1: [4.04002103e-05 3.64094537e-04 2.65729927e-03 8.56415312e-04\n",
      " 1.12546878e-03 1.06023060e-04 2.99057950e-03 2.12413177e-03\n",
      " 9.54150575e-01 3.55850126e-02]\n",
      "weight for bin3: [9.90907663e-01 6.24142404e-04 1.60937350e-03 1.72645434e-04\n",
      " 8.20194429e-04 1.24489715e-05 3.87459882e-03 7.90584201e-04\n",
      " 3.65140800e-05 1.15183497e-03]\n"
     ]
    }
   ],
   "source": [
    "print('weight for bin1:', weight_bin1)\n",
    "print('weight for bin3:', weight_bin3)"
   ]
  },
  {
   "cell_type": "markdown",
   "metadata": {},
   "source": [
    "###  Building portfolio returns"
   ]
  },
  {
   "cell_type": "code",
   "execution_count": 88,
   "metadata": {},
   "outputs": [
    {
     "data": {
      "image/png": "[encoded data removed]",
      "text/plain": [
       "<Figure size 576x396 with 1 Axes>"
      ]
     },
     "metadata": {},
     "output_type": "display_data"
    }
   ],
   "source": [
    "# Portfolio return\n",
    "return_bin1=asset_returns[bins['bin1']].dot(weight_bin1)\n",
    "return_bin3=asset_returns[bins['bin3']].dot(weight_bin3)\n",
    "\n",
    "# Cumulative portfolio returns\n",
    "cumulative_ret_bin1 = ((return_bin1+1).cumprod()-1)\n",
    "cumulative_ret_bin3 = ((return_bin3+1).cumprod()-1)\n",
    "\n",
    "# Plotting cumulative returns\n",
    "plt.style.use('ggplot')\n",
    "plt.plot(np.array(cumulative_ret_bin1), label='bin1')\n",
    "plt.plot(np.array(cumulative_ret_bin3), label='bin3')\n",
    "plt.ylabel('cumulative returns', fontsize=22) \n",
    "plt.title('CaC40 index')\n",
    "plt.xticks([])\n",
    "plt.legend()\n",
    "plt.show()"
   ]
  },
  {
   "cell_type": "markdown",
   "metadata": {},
   "source": [
    "It appears that portfolio bin1 has higher return than portfolio bin2."
   ]
  },
  {
   "cell_type": "markdown",
   "metadata": {},
   "source": [
    "# Comparing TDA portfolios with the CaC40 index\n",
    "\n",
    "The question to be ask after our TDA analysis is the following: Did we finally beat the CaC40 index with our approach?\n",
    "\n",
    "To answer to this question, we will represent on a single plot the cummulative returns of the three portfolios: bin1, bin3 and the CaC40 index."
   ]
  },
  {
   "cell_type": "code",
   "execution_count": 87,
   "metadata": {},
   "outputs": [
    {
     "data": {
      "image/png": "[encoded data removed]",
      "text/plain": [
       "<Figure size 576x396 with 1 Axes>"
      ]
     },
     "metadata": {},
     "output_type": "display_data"
    }
   ],
   "source": [
    "cumulative_ret_index=((asset_returns['^FCHI']+1).cumprod()-1)\n",
    "\n",
    "# Plotting cumulative returns\n",
    "plt.style.use('ggplot')\n",
    "plt.plot(np.array(cumulative_ret_bin1), label='bin1')\n",
    "plt.plot(np.array(cumulative_ret_bin3), label='bin3')\n",
    "plt.plot(np.array(cumulative_ret_index), label='cac40 index')\n",
    "plt.ylabel('cumulative returns', fontsize=22) \n",
    "plt.title('Comparison between three portfolio returns' )\n",
    "plt.xticks([])\n",
    "plt.legend()\n",
    "plt.show()"
   ]
  },
  {
   "cell_type": "markdown",
   "metadata": {},
   "source": [
    "This plot above shows that the portfolios bin1 and bin3 beat the benchmark index by generating higher profit.\n",
    "\n",
    "\n",
    "\n",
    "# Conclusion\n",
    "\n",
    "In this report, we used topological methods to propose an investment strategy on the CaC40 index.\n",
    "We have extracted from the CaC40 index two sub-portfolios which have better returns than the underlying benchmark index. More precisely, instead of investing on the whole CaC40 index, we would recommend the following investment strategy according to you risk appetite:\n",
    "\n",
    "- If your have a high-risk profile, then you should invest (under the above sugested proportions) on bin1: \n",
    "Société Générale,  Michelin, Engie, Teleperformance, Bouygues, BNP Paribas, Veolia Environ, Carrefour, Kering, and finally Schneider Electric. \n",
    "\n",
    "As shown in this analysis, the risk is relatively high on this portfolio but the return is be much higher than that of other portfolios including the benchmark index.\n",
    "\n",
    "\n",
    "- If you have a low-risk profile, then you should invest (under the above sugested proportions) on bin3:\n",
    "Pernod Ricard, Atos, Orange, Airbus, Accor, Peugeot, Sodexo, Saint-Gobain, Crédit Agricole and finally Thales.\n",
    "\n",
    "This latter portfolio is less risky than bin1. The return is not that high but it is still benefict to invest on this one than the benchmark index.\n",
    "\n",
    "Note that our recommendations do not take into account the current situation and a wise investor should also track the financial (S1,S2 and annual) reports of these companies."
   ]
  },
  {
   "cell_type": "markdown",
   "metadata": {},
   "source": [
    "# Declaration of Competing Interest\n",
    "The author declares that he has no known competing financial interests or personal relationships that could have appeared to influence the work reported in this tutorial."
   ]
  },
  {
   "cell_type": "markdown",
   "metadata": {},
   "source": [
    "# Perspectives\n",
    "What else can we do after this investigation?\n",
    "\n",
    "- It is possible to compare the performance of this method with the traditional enhanced indexing methods such as Excess Mean Return. A study in this direction was done in [3];\n",
    "\n",
    "- This approach can be used on other stock indexes and any existing portfolio. If you are a portfolio manager, then you can empirically compare our approach with your own strategy and then broaden you management tools.\n",
    "\n",
    "- If you think the returns we got in this analysis were not high enough, then you can tun the meta parameters such as d (taken embedding dimension) and p (for the $L^p$ norm) and all others. By this process, you could increase the profit.   "
   ]
  },
  {
   "cell_type": "markdown",
   "metadata": {},
   "source": [
    "# References"
   ]
  },
  {
   "cell_type": "markdown",
   "metadata": {},
   "source": [
    "[1] Peter Bubenik. Statistical topological data analysis using persistence land- scapes. The Journal of Machine Learning Research, 16(1):77–102, 2015.\n",
    "\n",
    "[2] Marian Gidea and Yuri Katz. Topological data analysis of financial time series: Landscapes of crashes. Physica A: Statistical Mechanics and its Ap- plications, 491:820–834, 2018.\n",
    "\n",
    "[3] Anubha Goel, Puneet Pasricha, and Aparna Mehra. Topological data analysis in investment decisions. Expert Systems with Applications, 147:113222, 2020."
   ]
  }
 ],
 "metadata": {
  "kernelspec": {
   "display_name": "Python 3",
   "language": "python",
   "name": "python3"
  },
  "language_info": {
   "codemirror_mode": {
    "name": "ipython",
    "version": 3
   },
   "file_extension": ".py",
   "mimetype": "text/x-python",
   "name": "python",
   "nbconvert_exporter": "python",
   "pygments_lexer": "ipython3",
   "version": "3.7.3"
  }
 },
 "nbformat": 4,
 "nbformat_minor": 4
}
